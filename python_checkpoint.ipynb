{
 "cells": [
  {
   "cell_type": "markdown",
   "id": "dac2cf7d",
   "metadata": {},
   "source": [
    "#Question 1:"
   ]
  },
  {
   "cell_type": "code",
   "execution_count": 1,
   "id": "a4fe9271",
   "metadata": {},
   "outputs": [
    {
     "name": "stdout",
     "output_type": "stream",
     "text": [
      "[2002, 2009, 2016, 2023, 2037, 2044, 2051, 2058, 2072, 2079, 2086, 2093, 2107, 2114, 2121, 2128, 2142, 2149, 2156, 2163, 2177, 2184, 2191, 2198, 2212, 2219, 2226, 2233, 2247, 2254, 2261, 2268, 2282, 2289, 2296, 2303, 2317, 2324, 2331, 2338, 2352, 2359, 2366, 2373, 2387, 2394, 2401, 2408, 2422, 2429, 2436, 2443, 2457, 2464, 2471, 2478, 2492, 2499, 2506, 2513, 2527, 2534, 2541, 2548, 2562, 2569, 2576, 2583, 2597, 2604, 2611, 2618, 2632, 2639, 2646, 2653, 2667, 2674, 2681, 2688, 2702, 2709, 2716, 2723, 2737, 2744, 2751, 2758, 2772, 2779, 2786, 2793, 2807, 2814, 2821, 2828, 2842, 2849, 2856, 2863, 2877, 2884, 2891, 2898, 2912, 2919, 2926, 2933, 2947, 2954, 2961, 2968, 2982, 2989, 2996, 3003, 3017, 3024, 3031, 3038, 3052, 3059, 3066, 3073, 3087, 3094, 3101, 3108, 3122, 3129, 3136, 3143, 3157, 3164, 3171, 3178, 3192, 3199]\n"
     ]
    }
   ],
   "source": [
    "l = []\n",
    "for i in range(2000, 3200):\n",
    "    if ((i % 7) == 0) and ((i % 5) != 0):\n",
    "        l.append(i)\n",
    "print(l)"
   ]
  },
  {
   "cell_type": "markdown",
   "id": "b3f6f506",
   "metadata": {},
   "source": [
    "#Question 2:"
   ]
  },
  {
   "cell_type": "code",
   "execution_count": 2,
   "id": "38fcd0b6",
   "metadata": {},
   "outputs": [
    {
     "name": "stdout",
     "output_type": "stream",
     "text": [
      "give a random number: \n",
      "5\n",
      "120\n"
     ]
    }
   ],
   "source": [
    "fact = int(input('give a random number: \\n'))\n",
    "\n",
    "def factoriel(fact):\n",
    "    if fact == 0:\n",
    "        return 1\n",
    "    else:\n",
    "        return fact * factoriel(fact-1)\n",
    "\n",
    "print(factoriel(fact))"
   ]
  },
  {
   "cell_type": "markdown",
   "id": "5909f514",
   "metadata": {},
   "source": [
    "#Question 3:"
   ]
  },
  {
   "cell_type": "code",
   "execution_count": 3,
   "id": "f26437f2",
   "metadata": {},
   "outputs": [
    {
     "name": "stdout",
     "output_type": "stream",
     "text": [
      "give a number: \n",
      "5\n",
      "{1: 1, 2: 4, 3: 9, 4: 16, 5: 25}\n"
     ]
    }
   ],
   "source": [
    "length = int(input(\"give a number: \\n\"))\n",
    "\n",
    "dictionary = {}\n",
    "\n",
    "for i in range(1,length+1):\n",
    "    dictionary[i] = i*i\n",
    "\n",
    "print(dictionary)"
   ]
  },
  {
   "cell_type": "markdown",
   "id": "0df73733",
   "metadata": {},
   "source": [
    "#Question 4:"
   ]
  },
  {
   "cell_type": "code",
   "execution_count": 4,
   "id": "69632db4",
   "metadata": {},
   "outputs": [
    {
     "name": "stdout",
     "output_type": "stream",
     "text": [
      "give a random string : \n",
      "kitten\n",
      "give a random index: \n",
      "1\n",
      "ktten\n"
     ]
    }
   ],
   "source": [
    "\n",
    "t1 = input(\"give a random string : \\n\")\n",
    "index = int(input(\"give a random index: \\n\"))\n",
    "\n",
    "def missing_char(t1, x):\n",
    "    return t1.replace(t1[x], '')\n",
    "\n",
    "print(missing_char(t1, index))"
   ]
  },
  {
   "cell_type": "markdown",
   "id": "ecfeec46",
   "metadata": {},
   "source": [
    "#Question 5:"
   ]
  },
  {
   "cell_type": "code",
   "execution_count": 5,
   "id": "712355e7",
   "metadata": {},
   "outputs": [
    {
     "name": "stdout",
     "output_type": "stream",
     "text": [
      "[[0 1]\n",
      " [2 3]\n",
      " [4 5]]\n",
      "[[0, 1], [2, 3], [4, 5]]\n"
     ]
    }
   ],
   "source": [
    "import numpy as np\n",
    "\n",
    "arr = np.array([[0, 1],[2, 3],[4, 5]])\n",
    "\n",
    "print(arr)\n",
    "\n",
    "print(arr.tolist())"
   ]
  },
  {
   "cell_type": "markdown",
   "id": "f7774de7",
   "metadata": {},
   "source": [
    "#Question 6:"
   ]
  },
  {
   "cell_type": "code",
   "execution_count": 6,
   "id": "e5f2248e",
   "metadata": {},
   "outputs": [
    {
     "name": "stdout",
     "output_type": "stream",
     "text": [
      "give any number : \n",
      "3\n",
      "give a number for the first array: 0\n",
      "give a number for the first array: 1\n",
      "give a number for the first array: 2\n",
      "give a number for the second array: 2\n",
      "give a number for the second array: 1\n",
      "give a number for the second array: 0\n",
      "[[ 1. -1.]\n",
      " [-1.  1.]]\n"
     ]
    }
   ],
   "source": [
    "import numpy as np\n",
    "\n",
    "first_arr = []\n",
    "sec_arr = []\n",
    "\n",
    "l = int(input(\"give any number : \\n\"))\n",
    "\n",
    "for i in range(l):\n",
    "    \n",
    "    first_arr.append(int(input(\"give a number for the first array: \")))\n",
    "    \n",
    "for i in range(l):\n",
    "    \n",
    "    sec_arr.append(int(input(\"give a number for the second array: \")))\n",
    "\n",
    "\n",
    "print(np.cov(first_arr, sec_arr))"
   ]
  },
  {
   "cell_type": "markdown",
   "id": "2e335ddf",
   "metadata": {},
   "source": [
    "#Question 7:"
   ]
  },
  {
   "cell_type": "code",
   "execution_count": 8,
   "id": "ef52d32a",
   "metadata": {},
   "outputs": [
    {
     "name": "stdout",
     "output_type": "stream",
     "text": [
      "give comma seperated numbers: \n",
      "30,150,180\n",
      "10\n",
      "22.4\n",
      "24.5\n"
     ]
    }
   ],
   "source": [
    "import math \n",
    "\n",
    "values = input(\"give comma seperated numbers: \\n\")\n",
    "\n",
    "lista = values.split(\",\")\n",
    "\n",
    "#print(lista)\n",
    " \n",
    "for i in range(len(lista)):\n",
    "    val = (math.sqrt((2 * 50 * float(lista[i]))/30))\n",
    "    if (val - int(val) == 0):\n",
    "        print(round(val))\n",
    "    else:\n",
    "        print(round(val,1))"
   ]
  },
  {
   "cell_type": "code",
   "execution_count": null,
   "id": "f85f4b58",
   "metadata": {},
   "outputs": [],
   "source": []
  }
 ],
 "metadata": {
  "kernelspec": {
   "display_name": "Python 3 (ipykernel)",
   "language": "python",
   "name": "python3"
  },
  "language_info": {
   "codemirror_mode": {
    "name": "ipython",
    "version": 3
   },
   "file_extension": ".py",
   "mimetype": "text/x-python",
   "name": "python",
   "nbconvert_exporter": "python",
   "pygments_lexer": "ipython3",
   "version": "3.11.4"
  }
 },
 "nbformat": 4,
 "nbformat_minor": 5
}
